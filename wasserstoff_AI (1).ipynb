{
 "cells": [
  {
   "cell_type": "markdown",
   "id": "4e03218a-8ae3-4d8e-9e8e-b3e3953c396f",
   "metadata": {},
   "source": [
    "# installing neccessary Librarires"
   ]
  },
  {
   "cell_type": "code",
   "execution_count": 35,
   "id": "86179964-ec75-44fc-964d-5c3dead4986d",
   "metadata": {},
   "outputs": [
    {
     "name": "stdout",
     "output_type": "stream",
     "text": [
      "Requirement already satisfied: pymongo in c:\\users\\dell\\anaconda3\\lib\\site-packages (4.10.1)\n",
      "Requirement already satisfied: dnspython<3.0.0,>=1.16.0 in c:\\users\\dell\\anaconda3\\lib\\site-packages (from pymongo) (2.7.0)\n",
      "Requirement already satisfied: pdfplumber in c:\\users\\dell\\anaconda3\\lib\\site-packages (0.11.4)\n",
      "Requirement already satisfied: pdfminer.six==20231228 in c:\\users\\dell\\anaconda3\\lib\\site-packages (from pdfplumber) (20231228)\n",
      "Requirement already satisfied: Pillow>=9.1 in c:\\users\\dell\\anaconda3\\lib\\site-packages (from pdfplumber) (10.3.0)\n",
      "Requirement already satisfied: pypdfium2>=4.18.0 in c:\\users\\dell\\anaconda3\\lib\\site-packages (from pdfplumber) (4.30.0)\n",
      "Requirement already satisfied: charset-normalizer>=2.0.0 in c:\\users\\dell\\anaconda3\\lib\\site-packages (from pdfminer.six==20231228->pdfplumber) (2.0.4)\n",
      "Requirement already satisfied: cryptography>=36.0.0 in c:\\users\\dell\\anaconda3\\lib\\site-packages (from pdfminer.six==20231228->pdfplumber) (42.0.5)\n",
      "Requirement already satisfied: cffi>=1.12 in c:\\users\\dell\\anaconda3\\lib\\site-packages (from cryptography>=36.0.0->pdfminer.six==20231228->pdfplumber) (1.16.0)\n",
      "Requirement already satisfied: pycparser in c:\\users\\dell\\anaconda3\\lib\\site-packages (from cffi>=1.12->cryptography>=36.0.0->pdfminer.six==20231228->pdfplumber) (2.21)\n"
     ]
    }
   ],
   "source": [
    "!pip install pymongo\n",
    "!pip install pdfplumber"
   ]
  },
  {
   "cell_type": "markdown",
   "id": "31ddc836-4177-4cd7-b5db-c7ee683b9f20",
   "metadata": {},
   "source": [
    "# Step 1: Importing Necessary Libraries"
   ]
  },
  {
   "cell_type": "code",
   "execution_count": 26,
   "id": "184ea046-c0f3-4482-8f9b-eb88d979365f",
   "metadata": {},
   "outputs": [],
   "source": [
    "import requests\n",
    "import os\n",
    "import json\n",
    "from pymongo import MongoClient\n",
    "import pdfplumber\n",
    "from collections import Counter\n",
    "import re\n",
    "import time\n",
    "from concurrent.futures import ThreadPoolExecutor\n",
    "import tracemalloc"
   ]
  },
  {
   "cell_type": "markdown",
   "id": "e3e0d564-0253-45a6-b5eb-8cb9d5b238c4",
   "metadata": {},
   "source": [
    "# Step 2: Loading the Dataset"
   ]
  },
  {
   "cell_type": "code",
   "execution_count": 27,
   "id": "7cee18e9-ff21-4b9a-863a-5090948035aa",
   "metadata": {},
   "outputs": [
    {
     "name": "stdout",
     "output_type": "stream",
     "text": [
      "{'pdf1': 'https://digiscr.sci.gov.in/pdf_viewer?dir=YWRtaW4vanVkZ2VtZW50X2ZpbGUvanVkZ2VtZW50X3BkZi8xOTUwL3ZvbHVtZSAxL1BhcnQgSS9Db21taXNzaW9uZXIgb2YgSW5jb21lIFRheCwgV2VzdCBCZW5nYWxfQ2FsY3V0dGEgQWdlbmN5IEx0ZC5fMTY5NzYwNjMxMC5wZGY=', 'pdf2': 'https://digiscr.sci.gov.in/pdf_viewer?dir=YWRtaW4vanVkZ2VtZW50X2ZpbGUvanVkZ2VtZW50X3BkZi8xOTUyL3ZvbHVtZSAxL1BhcnQgSS90aGUgc3RhdGUgb2YgYmloYXJfbWFoYXJhamFkaGlyYWphIHNpciBrYW1lc2h3YXIgc2luZ2ggb2YgZGFyYmhhbmdhIGFuZCBvdGhlcnNfMTY5ODMxODQ0OC5wZGY=', 'pdf3': 'https://cdnbbsr.s3waas.gov.in/s380537a945c7aaa788ccfcdf1b99b5d8f/uploads/2024/07/20240716890312078.pdf', 'pdf4': 'https://www.mha.gov.in/sites/default/files/250883_english_01042024.pdf', 'pdf5': 'https://rbidocs.rbi.org.in/rdocs/PressRelease/PDFs/PR60974A2ED1DFDB84EC0B3AABFB8419E1431.PDF', 'pdf6': 'https://digiscr.sci.gov.in/pdf_viewer?dir=YWRtaW4vanVkZ2VtZW50X2ZpbGUvanVkZ2VtZW50X3BkZi8xOTYwL3ZvbHVtZSAxL1BhcnQgSS90aGUgdGF0YSBvaWwgbWlsbHMgY28uIGx0ZC5faXRzIHdvcmttZW4gYW5kIG90aGVyc18xNjk5MzMzODYyLnBkZg==', 'pdf7': 'https://digiscr.sci.gov.in/pdf_viewer?dir=YWRtaW4vanVkZ2VtZW50X2ZpbGUvanVkZ2VtZW50X3BkZi8xOTYwL3ZvbHVtZSAxL1BhcnQgSS9ncmVhdCBpbmRpYW4gbW90b3Igd29ya3MgbHRkLiwgYW5kIGFub3RoZXJfdGhlaXIgZW1wbG95ZWVzIGFuZCBvdGhlcnNfMTY5OTMzNjM1NS5wZGY=', 'pdf8': 'https://digiscr.sci.gov.in/pdf_viewer?dir=YWRtaW4vanVkZ2VtZW50X2ZpbGUvanVkZ2VtZW50X3BkZi8xOTYwL3ZvbHVtZSAxL1BhcnQgSS9tZXNzcnMuIGlzcGFoYW5pIGx0ZC4gY2FsY3V0dGFfaXNwYWhhbmkgZW1wbG95ZWVzICB1bmlvbl8xNjk5MzM4NTQ5LnBkZg==', 'pdf9': 'https://digiscr.sci.gov.in/pdf_viewer?dir=YWRtaW4vanVkZ2VtZW50X2ZpbGUvanVkZ2VtZW50X3BkZi8xOTYwL3ZvbHVtZSAxL1BhcnQgSS9waHVsYmFyaSB0ZWEgZXN0YXRlX2l0cyB3b3JrbWVuXzE2OTkzMzkyMjYucGRm', 'pdf10': 'https://digiscr.sci.gov.in/pdf_viewer?dir=YWRtaW4vanVkZ2VtZW50X2ZpbGUvanVkZ2VtZW50X3BkZi8xOTYwL3ZvbHVtZSAxL1BhcnQgSS90aGUgbG9yZCBrcmlzaG5hIHN1Z2FyIG1pbGxzIGx0ZC4sIGFuZCBhbm90aGVyX3RoZSB1bmlvbiBvZiBpbmRpYSBhbmQgYW5vdGhlcl8xNjk5MzQxMDE0LnBkZg==', 'pdf11': 'https://digiscr.sci.gov.in/pdf_viewer?dir=YWRtaW4vanVkZ2VtZW50X2ZpbGUvanVkZ2VtZW50X3BkZi8xOTYwL3ZvbHVtZSAxL1BhcnQgSS8xNjk5NTIxMzUwLnBkZg==', 'pdf12': 'https://digiscr.sci.gov.in/pdf_viewer?dir=YWRtaW4vanVkZ2VtZW50X2ZpbGUvanVkZ2VtZW50X3BkZi8xOTYwL3ZvbHVtZSAxL1BhcnQgSS90aGUgZ3JhaGFtIHRyYWRpbmcgY28uIChpbmRpYSkgbHRkLl9pdHMgd29ya21lbl8xNjk5NTIzNTc3LnBkZg==', 'pdf13': 'https://digiscr.sci.gov.in/pdf_viewer?dir=YWRtaW4vanVkZ2VtZW50X2ZpbGUvanVkZ2VtZW50X3BkZi8xOTYwL3ZvbHVtZSAxL1BhcnQgSS90aGUgY29tbWlzc2lvbmVyIG9mIGluY29tZS10YXgsIGJvbWJheV9yYW5jaGhvZGRhcyBrYXJzb25kYXMsIGJvbWJheV8xNjk5NTI2MjI3LnBkZg==', 'pdf14': 'https://digiscr.sci.gov.in/pdf_viewer?dir=YWRtaW4vanVkZ2VtZW50X2ZpbGUvanVkZ2VtZW50X3BkZi8xOTYwL3ZvbHVtZSAxL1BhcnQgSS8xNjk5NTI2ODA0LnBkZg==', 'pdf15': 'https://digiscr.sci.gov.in/pdf_viewer?dir=YWRtaW4vanVkZ2VtZW50X2ZpbGUvanVkZ2VtZW50X3BkZi8xOTYwL3ZvbHVtZSAxL1BhcnQgSS9zaHJpIGIuIHAuIGhpcmEsIHdvcmtzIG1hbmFnZXIsIGNlbnRyYWwgcmFpbHdheSwgcGFyZWwsIGJvbWJheSBldGMuX3NocmkgYy4gbS4gcHJhZGhhbiBldGMuXzE2OTk1MjcyMTcucGRm', 'pdf16': 'https://www.sebi.gov.in/sebi_data/attachdocs/1292585113260.pdf', 'pdf17': 'https://ijtr.nic.in/Circular%20Orders%20(Supplement).pdf', 'pdf18': 'https://enforcementdirectorate.gov.in/sites/default/files/Act%26rules/The%20Prevention%20of%20Money-laundering%20%28Maintenance%20of%20Records%29%20Rules%2C%202005.pdf'}\n"
     ]
    }
   ],
   "source": [
    "file_path = 'C:/Users/Dell/Downloads/Dataset.json'  # Update with your local path\n",
    "with open(file_path, 'r') as f:\n",
    "    dataset = json.load(f)\n",
    "\n",
    "print(dataset)"
   ]
  },
  {
   "cell_type": "markdown",
   "id": "5da298cb-1f6a-4ce9-8b43-0ebdb6e38014",
   "metadata": {},
   "source": [
    "# Step 3: Setup MongoDB Connection"
   ]
  },
  {
   "cell_type": "code",
   "execution_count": 28,
   "id": "654e0f84-af41-4d01-97ef-6b068f09f205",
   "metadata": {},
   "outputs": [],
   "source": [
    "client = MongoClient('mongodb://localhost:27017/')\n",
    "db = client['pdf_summarization']  "
   ]
  },
  {
   "cell_type": "markdown",
   "id": "f210fccd-6123-41cf-9241-92ea51cb3df8",
   "metadata": {},
   "source": [
    "# Step 4:  Downloading and Saving PDFs"
   ]
  },
  {
   "cell_type": "code",
   "execution_count": 29,
   "id": "55d51346-7dee-41aa-9606-7c428e6cc368",
   "metadata": {},
   "outputs": [],
   "source": [
    "def download_pdf(url, file_name):\n",
    "    response = requests.get(url)\n",
    "    file_path = os.path.join(download_dir, file_name)\n",
    "    with open(file_path, 'wb') as file:\n",
    "        file.write(response.content)\n",
    "    return file_path"
   ]
  },
  {
   "cell_type": "markdown",
   "id": "11caf3f5-1538-4bf5-b397-9e8a45840f1a",
   "metadata": {},
   "source": [
    "# Step 5:  Parsing PDF and Extracting Text and Metadata"
   ]
  },
  {
   "cell_type": "code",
   "execution_count": 30,
   "id": "f5d3967c-4bac-4f0d-b5fd-cb37ca29b572",
   "metadata": {},
   "outputs": [],
   "source": [
    "def parse_pdf(file_path):\n",
    "    try:\n",
    "        text = \"\"\n",
    "        with pdfplumber.open(file_path) as pdf:\n",
    "            for page in pdf.pages:\n",
    "                text += page.extract_text() or ''  # Extract text from each page\n",
    "\n",
    "        # Metadata to be stored in MongoDB\n",
    "        metadata = {\n",
    "            'file_name': os.path.basename(file_path),\n",
    "            'path': file_path,\n",
    "            'size': os.path.getsize(file_path),\n",
    "            'num_pages': len(pdf.pages)\n",
    "        }\n",
    "\n",
    "        # Insert metadata into MongoDB\n",
    "        doc_id = db.pdfs.insert_one(metadata).inserted_id\n",
    "        return {'_id': doc_id, 'text': text, 'metadata': metadata}\n",
    "    except Exception as e:\n",
    "        print(f\"Error processing {file_path}: {e}\")\n"
   ]
  },
  {
   "cell_type": "markdown",
   "id": "2828dffa-c35f-463b-8431-7b981d0a2f93",
   "metadata": {},
   "source": [
    "# Step 6:  Summarizing the Text"
   ]
  },
  {
   "cell_type": "code",
   "execution_count": 31,
   "id": "d387ca12-3ecc-4d08-8eae-05c7d15f968b",
   "metadata": {},
   "outputs": [],
   "source": [
    "def summarize_text(text):\n",
    "    sentences = re.split(r'(?<!\\w\\.\\w.)(?<![A-Z][a-z]\\.)(?<=\\.|\\?)\\s', text)\n",
    "    word_count = Counter(text.split())\n",
    "    top_sentences = sorted(sentences, key=lambda x: sum([word_count[word] for word in x.split()]), reverse=True)\n",
    "    summary = \" \".join(top_sentences[:5])  # Top 5 sentences for summary\n",
    "    return summary"
   ]
  },
  {
   "cell_type": "markdown",
   "id": "b5da9f49-cd28-4076-88cd-7f50e97c1c3b",
   "metadata": {},
   "source": [
    "# Step 8: Function to Extract Keywords"
   ]
  },
  {
   "cell_type": "code",
   "execution_count": 32,
   "id": "e004a3d7-c703-44a1-8c1d-01b5890895ea",
   "metadata": {},
   "outputs": [],
   "source": [
    "def extract_keywords(text):\n",
    "    words = re.findall(r'\\b\\w+\\b', text.lower())\n",
    "    stop_words = set(Counter(words).most_common(100))  \n",
    "    keywords = [word for word in words if word not in stop_words and len(word) > 3]\n",
    "    common_keywords = Counter(keywords).most_common(10)\n",
    "    return [keyword[0] for keyword in common_keywords]\n"
   ]
  },
  {
   "cell_type": "markdown",
   "id": "ec0a257b-2b7c-4190-9d44-f89c837c0ddf",
   "metadata": {},
   "source": [
    "# Step 9:  Processing a Single PDF"
   ]
  },
  {
   "cell_type": "code",
   "execution_count": 33,
   "id": "2ca5bdb0-3bb0-4239-95be-208ea6b86b8d",
   "metadata": {},
   "outputs": [],
   "source": [
    "def process_single_pdf(i, url):\n",
    "    file_name = f\"pdf_{i + 1}.pdf\"\n",
    "    pdf_path = download_pdf(url, file_name)  \n",
    "    result = parse_pdf(pdf_path) \n",
    "    \n",
    "    if result:\n",
    "        print(f\"\\nExtracted Text from {file_name}:\\n\")\n",
    "        print(result['text'])\n",
    "        \n",
    "        summary = summarize_text(result['text'])\n",
    "        keywords = extract_keywords(result['text'])\n",
    "        # Updating MongoDB with summary and keywords\n",
    "        db.pdfs.update_one(\n",
    "            {'_id': result['_id']},\n",
    "            {'$set': {'summary': summary, 'keywords': keywords}}\n",
    "        )\n",
    "        print(f\"Processed {file_name} and updated MongoDB.\")"
   ]
  },
  {
   "cell_type": "markdown",
   "id": "3a3ad3fc-c395-489f-8852-1ff83e620bb6",
   "metadata": {},
   "source": [
    "# Step 9: Loop Through Dataset and Process in Parallel"
   ]
  },
  {
   "cell_type": "code",
   "execution_count": 34,
   "id": "2776bc54-f921-41b9-9049-dafed39c0137",
   "metadata": {},
   "outputs": [],
   "source": [
    "def process_dataset(dataset):\n",
    "    start_time = time.time()  \n",
    "    tracemalloc.start()  \n",
    "\n",
    "    with ThreadPoolExecutor() as executor:\n",
    "        executor.map(lambda i_url: process_single_pdf(i_url[0], i_url[1]), enumerate(dataset.items()))\n",
    "\n",
    "    end_time = time.time()  \n",
    "    current, peak = tracemalloc.get_traced_memory() \n",
    "    tracemalloc.stop()  \n",
    "\n",
    "    print(f\"\\nTotal processing time: {end_time - start_time:.2f} seconds\")\n",
    "    print(f\"Current memory usage: {current / 10**6:.2f}MB; Peak was {peak / 10**6:.2f}MB\")\n"
   ]
  },
  {
   "cell_type": "markdown",
   "id": "9a064a4f-c892-44a9-9094-56e1c05987a9",
   "metadata": {},
   "source": [
    "# Step 10: Run the Dataset Processing"
   ]
  },
  {
   "cell_type": "code",
   "execution_count": 35,
   "id": "acd5de8c-090e-4f46-b7ba-2283d631d86d",
   "metadata": {},
   "outputs": [
    {
     "name": "stdout",
     "output_type": "stream",
     "text": [
      "\n",
      "Total processing time: 0.03 seconds\n",
      "Current memory usage: 0.04MB; Peak was 0.24MB\n"
     ]
    }
   ],
   "source": [
    "process_dataset(dataset)"
   ]
  },
  {
   "cell_type": "code",
   "execution_count": null,
   "id": "8d286543-87bd-4314-8773-30cda8982910",
   "metadata": {},
   "outputs": [],
   "source": []
  }
 ],
 "metadata": {
  "kernelspec": {
   "display_name": "Python 3 (ipykernel)",
   "language": "python",
   "name": "python3"
  },
  "language_info": {
   "codemirror_mode": {
    "name": "ipython",
    "version": 3
   },
   "file_extension": ".py",
   "mimetype": "text/x-python",
   "name": "python",
   "nbconvert_exporter": "python",
   "pygments_lexer": "ipython3",
   "version": "3.12.4"
  }
 },
 "nbformat": 4,
 "nbformat_minor": 5
}
